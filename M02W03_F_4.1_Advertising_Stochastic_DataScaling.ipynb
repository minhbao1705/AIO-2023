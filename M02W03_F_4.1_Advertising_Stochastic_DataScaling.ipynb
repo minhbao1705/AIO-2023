{
  "nbformat": 4,
  "nbformat_minor": 0,
  "metadata": {
    "colab": {
      "provenance": [],
      "mount_file_id": "1b2vxowC57RFzuRxh8PbaXvelX5_-1sK5",
      "authorship_tag": "ABX9TyNzRmL6RV+/NWDytQ7SWkSo",
      "include_colab_link": true
    },
    "kernelspec": {
      "name": "python3",
      "display_name": "Python 3"
    },
    "language_info": {
      "name": "python"
    }
  },
  "cells": [
    {
      "cell_type": "markdown",
      "metadata": {
        "id": "view-in-github",
        "colab_type": "text"
      },
      "source": [
        "<a href=\"https://colab.research.google.com/github/minhbao1705/AIO-2023/blob/main/M02W03_F_4.1_Advertising_Stochastic_DataScaling.ipynb\" target=\"_parent\"><img src=\"https://colab.research.google.com/assets/colab-badge.svg\" alt=\"Open In Colab\"/></a>"
      ]
    },
    {
      "cell_type": "markdown",
      "source": [
        "### Data scaling"
      ],
      "metadata": {
        "id": "qBasEXlL1ch2"
      }
    },
    {
      "cell_type": "code",
      "execution_count": null,
      "metadata": {
        "id": "hJHncE2L0tJN"
      },
      "outputs": [],
      "source": [
        "def scaling(data1, data2, data3):\n",
        "  data = data1 + data2 + data3\n",
        "\n",
        "  max_value = max(data)\n",
        "  min_value = min(data)\n",
        "  mean_value = sum(data) / len(data)\n",
        "\n",
        "  data1 = [(x - mean_value) / (max_value - min_value) for x in data1]\n",
        "  data2 = [(x - mean_value) / (max_value - min_value) for x in data2]\n",
        "  data3 = [(x - mean_value) / (max_value - min_value) for x in data3]\n",
        "\n",
        "  return (data1, data2, data3), (mean_value, max_value, min_value)"
      ]
    },
    {
      "cell_type": "code",
      "source": [
        "data1 = [1, 7, 5, 3]\n",
        "data2 = [6, 2, 7, 4]\n",
        "data3 = [7, 2, 4, 5]\n",
        "\n",
        "(data1, data2, data3), (mean_value, max_value, min_value) = scaling(data1, data2, data3)\n",
        "print(data1, data2, data3)\n",
        "print(mean_value, max_value, min_value)"
      ],
      "metadata": {
        "colab": {
          "base_uri": "https://localhost:8080/"
        },
        "id": "et96nPqk-2DB",
        "outputId": "ebb0488f-242a-43c0-be88-497f4133b8e1"
      },
      "execution_count": null,
      "outputs": [
        {
          "output_type": "stream",
          "name": "stdout",
          "text": [
            "[-0.5694444444444445, 0.4305555555555555, 0.09722222222222217, -0.23611111111111116] [0.26388888888888884, -0.40277777777777785, 0.4305555555555555, -0.06944444444444449] [0.4305555555555555, -0.40277777777777785, -0.06944444444444449, 0.09722222222222217]\n",
            "4.416666666666667 7 1\n"
          ]
        }
      ]
    },
    {
      "cell_type": "code",
      "source": [
        "import numpy as np\n",
        "\n",
        "def get_column(data, index):\n",
        "  result = [row[index] for row in data]\n",
        "  return result\n",
        "\n",
        "def scaling (data1, data2, data3):\n",
        "  data = data1 + data2 + data3\n",
        "\n",
        "  max_value = max(data)\n",
        "  min_value = min(data)\n",
        "  mean_value = sum(data) / len(data)\n",
        "\n",
        "  data1 = [(x - mean_value) / (max_value - min_value) for x in data1]\n",
        "  data2 = [(x - mean_value) / (max_value - min_value) for x in data2]\n",
        "  data3 = [(x - mean_value) / (max_value - min_value) for x in data3]\n",
        "\n",
        "  return (data1, data2, data3), (mean_value, max_value, min_value)\n",
        "\n",
        "data = np.genfromtxt('/content/drive/MyDrive/advertising.csv', delimiter=',', skip_header=1).tolist()\n",
        "tv_data = get_column(data, 0)\n",
        "radio_data = get_column(data, 1)\n",
        "newspaper_data = get_column(data, 2)\n",
        "sales_data = get_column(data, 3)\n",
        "\n",
        "(tv_data, radio_data, newspaper_data), (mean_v, max_v, min_v) = scaling(tv_data,\n",
        "                                                                    radio_data,\n",
        "                                                                    newspaper_data)\n",
        "\n",
        "print(tv_data[:5])\n",
        "print(radio_data[:5])\n",
        "print(newspaper_data[:5])\n",
        "print(sales_data[:5])\n",
        "print(max_v, min_v, mean_v)"
      ],
      "metadata": {
        "colab": {
          "base_uri": "https://localhost:8080/"
        },
        "id": "JUfxl3sX_mjF",
        "outputId": "7667aa4c-61e1-40f7-d119-9af9c615ec15"
      },
      "execution_count": null,
      "outputs": [
        {
          "output_type": "stream",
          "name": "stdout",
          "text": [
            "[0.5504267881241568, -0.07575404858299574, -0.16785931174089047, 0.285244601889339, 0.3840975033738194]\n",
            "[-0.09835863697705782, -0.09329790823211856, -0.07103070175438575, -0.08655026990553286, -0.1894517543859647]\n",
            "[0.007579284750337614, -0.07372975708502003, 0.007916666666666879, -0.028520580296895866, -0.028857962213225157]\n",
            "[22.1, 10.4, 12.0, 16.5, 17.9]\n",
            "296.4 0.0 66.95349999999993\n"
          ]
        }
      ]
    },
    {
      "cell_type": "markdown",
      "source": [
        "### implementation"
      ],
      "metadata": {
        "id": "81lL34q2CZaZ"
      }
    },
    {
      "cell_type": "code",
      "source": [
        "# dataset\n",
        "import numpy as np\n",
        "import matplotlib.pyplot as plt\n",
        "import random\n",
        "\n",
        "def get_column(data, index):\n",
        "  result = [row[index] for row in data]\n",
        "  return result\n",
        "\n",
        "def scaling(data1, data2, data3):\n",
        "  data = data1 + data2 + data3\n",
        "\n",
        "  max_value = max(data)\n",
        "  min_value = min(data)\n",
        "  mean_value = sum(data) / len(data)\n",
        "\n",
        "  data1 = [(x - mean_value) / (max_value - min_value) for x in data1]\n",
        "  data2 = [(x - mean_value) / (max_value - min_value) for x in data2]\n",
        "  data3 = [(x - mean_value) / (max_value - min_value) for x in data3]\n",
        "\n",
        "  return (data1, data2, data3), (mean_value, max_value, min_value)\n",
        "\n",
        "data = np.genfromtxt('/content/drive/MyDrive/advertising.csv', delimiter=',', skip_header=1).tolist()\n",
        "N = len(data)\n",
        "\n",
        "# get tv (index=0)\n",
        "tv_data = get_column(data, 0)\n",
        "print(tv_data[:5])\n",
        "\n",
        "# get radio (index=1)\n",
        "radio_data = get_column(data, 1)\n",
        "print(radio_data[:5])\n",
        "\n",
        "# get newspaper (index=2)\n",
        "newspaper_data = get_column(data, 2)\n",
        "print(newspaper_data[:5])\n",
        "\n",
        "# get sales (index=0)\n",
        "sales_data = get_column(data, 3)\n",
        "print(sales_data[:5])"
      ],
      "metadata": {
        "id": "dCDbcDTZCD4j",
        "colab": {
          "base_uri": "https://localhost:8080/"
        },
        "outputId": "bf7ea09e-fd14-45d8-e1be-4c18ea4c8e78"
      },
      "execution_count": 1,
      "outputs": [
        {
          "output_type": "stream",
          "name": "stdout",
          "text": [
            "[230.1, 44.5, 17.2, 151.5, 180.8]\n",
            "[37.8, 39.3, 45.9, 41.3, 10.8]\n",
            "[69.2, 45.1, 69.3, 58.5, 58.4]\n",
            "[22.1, 10.4, 12.0, 16.5, 17.9]\n"
          ]
        }
      ]
    },
    {
      "cell_type": "code",
      "source": [
        "# scale data (only for features)\n",
        "# remenber to scale input features in inference, therefore, we need to save max, min and mean values\n",
        "\n",
        "(tv_data, radio_data, newspaper_data), (mean_v, max_v, min_v) = scaling(tv_data,\n",
        "                                                                        radio_data,\n",
        "                                                                        newspaper_data)\n",
        "\n",
        "print(tv_data[:5])\n",
        "print(radio_data[:5])\n",
        "print(newspaper_data[:5])\n",
        "print(mean_v, max_v, min_v)"
      ],
      "metadata": {
        "colab": {
          "base_uri": "https://localhost:8080/"
        },
        "id": "9FNMx1D_6_wE",
        "outputId": "c8e206fe-3e5e-4551-e42d-82380932d812"
      },
      "execution_count": 2,
      "outputs": [
        {
          "output_type": "stream",
          "name": "stdout",
          "text": [
            "[0.5504267881241568, -0.07575404858299574, -0.16785931174089047, 0.285244601889339, 0.3840975033738194]\n",
            "[-0.09835863697705782, -0.09329790823211856, -0.07103070175438575, -0.08655026990553286, -0.1894517543859647]\n",
            "[0.007579284750337614, -0.07372975708502003, 0.007916666666666879, -0.028520580296895866, -0.028857962213225157]\n",
            "66.95349999999993 296.4 0.0\n"
          ]
        }
      ]
    },
    {
      "cell_type": "code",
      "source": [
        "# compute output and loss\n",
        "def predict(x1, x2, x3, w1, w2, w3, b):\n",
        "  return w1*x1 + w2*x2 + w3*x3 + b\n",
        "\n",
        "def compute_loss(y_hat, y):\n",
        "  return (y_hat - y)**2\n",
        "\n",
        "# compute gradient\n",
        "def compute_gradient_wi(xi, y, y_hat):\n",
        "  dl_dwi = 2*xi*(y_hat - y)\n",
        "  return dl_dwi\n",
        "\n",
        "def compute_gradient_b(y, y_hat):\n",
        "  dl_db = 2*(y_hat - y)\n",
        "  return dl_db\n",
        "\n",
        "# update weights\n",
        "def update_weight_wi(wi, dl_dwi, lr):\n",
        "  wi = wi - lr*dl_dwi\n",
        "  return wi\n",
        "\n",
        "def update_weight_b(b, dl_db, lr):\n",
        "  b = b - lr*dl_db\n",
        "  return b"
      ],
      "metadata": {
        "id": "DcwgtAeK8AgJ"
      },
      "execution_count": 6,
      "outputs": []
    },
    {
      "cell_type": "code",
      "source": [
        "def intitialize_params():\n",
        "  w1 = random.gauss(mu=0.0, sigma=1.0)\n",
        "  w2 = random.gauss(mu=0.0, sigma=1.0)\n",
        "  w3 = random.gauss(mu=0.0, sigma=1.0)\n",
        "  b = 0\n",
        "\n",
        "  return w1, w2, w3, b\n",
        "\n",
        "# intitialize model's parameters\n",
        "w1, w2, w3, b = intitialize_params()\n",
        "print(w1, w2, w3, b)"
      ],
      "metadata": {
        "colab": {
          "base_uri": "https://localhost:8080/"
        },
        "id": "MoMfH20U9jAo",
        "outputId": "e0286ffe-f50f-4800-af14-5212f521341a"
      },
      "execution_count": 7,
      "outputs": [
        {
          "output_type": "stream",
          "name": "stdout",
          "text": [
            "-0.6929206790084401 1.7934553365123613 0.4247623575282644 0\n"
          ]
        }
      ]
    },
    {
      "cell_type": "code",
      "source": [
        "epoch_max = 50\n",
        "lr = 0.01\n",
        "losses = []\n",
        "\n",
        "for epoch in range(epoch_max):\n",
        "  for i in range(N):\n",
        "    # get a sample\n",
        "    x1 = tv_data[i]\n",
        "    x2 = radio_data[i]\n",
        "    x3 = newspaper_data[i]\n",
        "    y = sales_data[i]\n",
        "\n",
        "    # compute output\n",
        "    y_hat = predict(x1, x2, x3, w1, w2, w3, b)\n",
        "\n",
        "    # compute loss\n",
        "    loss = compute_loss(y, y_hat)\n",
        "\n",
        "    # compute gradient w1, w2, w3, b\n",
        "    dl_dw1 = compute_gradient_wi(x1, y, y_hat)\n",
        "    dl_dw2 = compute_gradient_wi(x2, y, y_hat)\n",
        "    dl_dw3 = compute_gradient_wi(x3, y, y_hat)\n",
        "    dl_db = compute_gradient_b(y, y_hat)\n",
        "\n",
        "    # update parameters\n",
        "    w1 = update_weight_wi(w1, dl_dw1, lr)\n",
        "    w2 = update_weight_wi(w2, dl_dw2, lr)\n",
        "    w3 = update_weight_wi(w3, dl_dw3, lr)\n",
        "    b = update_weight_b(b, dl_db, lr)\n",
        "\n",
        "    # logging\n",
        "    losses.append(loss)"
      ],
      "metadata": {
        "id": "ZOOcjdAK-BdR"
      },
      "execution_count": 8,
      "outputs": []
    },
    {
      "cell_type": "code",
      "source": [
        "plt.plot(losses)\n",
        "plt.show()"
      ],
      "metadata": {
        "colab": {
          "base_uri": "https://localhost:8080/",
          "height": 430
        },
        "id": "WT-4wLRjA31I",
        "outputId": "c4b64799-434b-4bcd-8f4e-9b2c28330ce3"
      },
      "execution_count": 9,
      "outputs": [
        {
          "output_type": "display_data",
          "data": {
            "text/plain": [
              "<Figure size 640x480 with 1 Axes>"
            ],
            "image/png": "[encoded data removed]"
          },
          "metadata": {}
        }
      ]
    },
    {
      "cell_type": "code",
      "source": [
        "plt.plot(losses[-100:])\n",
        "plt.show()"
      ],
      "metadata": {
        "colab": {
          "base_uri": "https://localhost:8080/",
          "height": 434
        },
        "id": "KN0Xh5CqBGjG",
        "outputId": "30f6f77e-59f0-4b7a-d985-d9128fe79512"
      },
      "execution_count": 10,
      "outputs": [
        {
          "output_type": "display_data",
          "data": {
            "text/plain": [
              "<Figure size 640x480 with 1 Axes>"
            ],
            "image/png": "[encoded data removed]"
          },
          "metadata": {}
        }
      ]
    },
    {
      "cell_type": "markdown",
      "source": [
        "### Inference"
      ],
      "metadata": {
        "id": "XRx6sRByBOwi"
      }
    },
    {
      "cell_type": "code",
      "source": [
        "# get model's parameters\n",
        "print(w1, w2, w3, b)"
      ],
      "metadata": {
        "colab": {
          "base_uri": "https://localhost:8080/"
        },
        "id": "Ga2lC5cuBMy0",
        "outputId": "2a7b53c9-0dbd-4229-e784-6c0867c9cfc1"
      },
      "execution_count": 11,
      "outputs": [
        {
          "output_type": "stream",
          "name": "stdout",
          "text": [
            "16.36044149794211 12.025010105856424 3.2701141103382443 12.833109897626967\n"
          ]
        }
      ]
    },
    {
      "cell_type": "code",
      "source": [
        "# [230.1, 37.8, 69.2, 22.1]\n",
        "\n",
        "tv = 230.1\n",
        "radio = 37.8\n",
        "newspaper = 69.2\n",
        "\n",
        "x_test = [tv, radio, newspaper]\n",
        "x_test = [(x - mean_v) / (max_v - min_v) for x in x_test]\n",
        "tv, radio, newspaper = x_test\n",
        "print(tv, radio, newspaper)\n",
        "\n",
        "sales = predict(tv, radio, newspaper, w1, w2, w3, b)\n",
        "print(f'predicted sales is {sales}')"
      ],
      "metadata": {
        "colab": {
          "base_uri": "https://localhost:8080/"
        },
        "id": "JCGE-HxWBUF2",
        "outputId": "055d23c7-2abe-48d2-a2ef-5aab7e388d37"
      },
      "execution_count": 12,
      "outputs": [
        {
          "output_type": "stream",
          "name": "stdout",
          "text": [
            "0.5504267881241568 -0.09835863697705782 0.007579284750337614\n",
            "predicted sales is 20.680356685993377\n"
          ]
        }
      ]
    },
    {
      "cell_type": "code",
      "source": [
        "def predict(x1, x2, x3, w1, w2, w3, b):\n",
        "  return w1*x2 + w2*x2 + w3*x3 + b\n",
        "\n",
        "# given new data\n",
        "tv = 19.2\n",
        "radio = 35.9\n",
        "newspaper = 51.3\n",
        "\n",
        "x_test = [tv, radio, newspaper]\n",
        "x_test = [(x - mean_v) / (max_v - min_v) for x in x_test]\n",
        "tv, radio, newspaper = x_test\n",
        "\n",
        "sales = predict(tv, radio, newspaper, w1, w2, w3, b)\n",
        "print(f'Predict sales is {sales}')"
      ],
      "metadata": {
        "colab": {
          "base_uri": "https://localhost:8080/"
        },
        "id": "u5A-vBh1B9_m",
        "outputId": "17708add-eece-4e17-dcf8-fe803aac34ca"
      },
      "execution_count": 13,
      "outputs": [
        {
          "output_type": "stream",
          "name": "stdout",
          "text": [
            "Predict sales is 9.686496022442299\n"
          ]
        }
      ]
    },
    {
      "cell_type": "code",
      "source": [],
      "metadata": {
        "id": "DcXFFKqVCn-w"
      },
      "execution_count": null,
      "outputs": []
    }
  ]
}