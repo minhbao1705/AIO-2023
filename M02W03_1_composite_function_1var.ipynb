{
  "nbformat": 4,
  "nbformat_minor": 0,
  "metadata": {
    "colab": {
      "provenance": [],
      "authorship_tag": "ABX9TyPtQ7nH2O6ggdGeOpmGhGIY",
      "include_colab_link": true
    },
    "kernelspec": {
      "name": "python3",
      "display_name": "Python 3"
    },
    "language_info": {
      "name": "python"
    }
  },
  "cells": [
    {
      "cell_type": "markdown",
      "metadata": {
        "id": "view-in-github",
        "colab_type": "text"
      },
      "source": [
        "<a href=\"https://colab.research.google.com/github/minhbao1705/AIO-2023/blob/main/M02W03_1_composite_function_1var.ipynb\" target=\"_parent\"><img src=\"https://colab.research.google.com/assets/colab-badge.svg\" alt=\"Open In Colab\"/></a>"
      ]
    },
    {
      "cell_type": "markdown",
      "source": [
        "### Composite function"
      ],
      "metadata": {
        "id": "GaLvJdiFPK5M"
      }
    },
    {
      "cell_type": "code",
      "execution_count": 1,
      "metadata": {
        "id": "fWkouXYkOuWy"
      },
      "outputs": [],
      "source": [
        "'''\n",
        "f(x) = 2x - 1\n",
        "g(f) = (f-3)^2\n",
        "\n",
        "g'(x) = 8x - 16\n",
        "'''\n",
        "def fx(x):\n",
        "  return 2*x - 1\n",
        "\n",
        "def gf(f):\n",
        "  return (f-3)**2\n",
        "\n",
        "def dg_gx(x):\n",
        "  return 8*x - 16"
      ]
    },
    {
      "cell_type": "code",
      "source": [
        "import random\n",
        "num_steps = 5\n",
        "lr = 0.1\n",
        "\n",
        "# 1. set x randomly\n",
        "x = random.randint(-100, 100)\n",
        "print(x)\n",
        "\n",
        "for _ in range(num_steps):\n",
        "  # 2. compute g(f(x))\n",
        "  loss = gf(fx(x))\n",
        "  print(f'x={x} and g(x) = {loss}')\n",
        "\n",
        "  # 3. compute derivative\n",
        "  dg_dx_value = dg_gx(x)\n",
        "\n",
        "  # 4. update\n",
        "  x = x - lr*dg_dx_value"
      ],
      "metadata": {
        "colab": {
          "base_uri": "https://localhost:8080/"
        },
        "id": "z1JLUIRWPn2E",
        "outputId": "1776729c-7a12-4d8a-dc8e-6bcad7bf5214"
      },
      "execution_count": 2,
      "outputs": [
        {
          "output_type": "stream",
          "name": "stdout",
          "text": [
            "29\n",
            "x=29 and g(x) = 2916\n",
            "x=7.399999999999999 and g(x) = 116.63999999999994\n",
            "x=3.079999999999999 and g(x) = 4.665599999999993\n",
            "x=2.2159999999999997 and g(x) = 0.18662399999999957\n",
            "x=2.0432 and g(x) = 0.007464960000000044\n"
          ]
        }
      ]
    },
    {
      "cell_type": "markdown",
      "source": [
        "### Optimization"
      ],
      "metadata": {
        "id": "s-Aoe67SRYQl"
      }
    },
    {
      "cell_type": "code",
      "source": [
        "'''\n",
        "f(x) = 2x - 1\n",
        "g(f) = (f-3)^2\n",
        "'''\n",
        "def fx(x):\n",
        "    return 2*x - 1\n",
        "\n",
        "def df_dx(x):\n",
        "    return 2\n",
        "\n",
        "def gf(f):\n",
        "    return (f-3)**2\n",
        "\n",
        "def dg_df(f):\n",
        "    return 2*(f-3)\n",
        "\n",
        "# compute g_x\n",
        "def forward(x):\n",
        "    fx_value = fx(x)\n",
        "    gf_value = gf(fx_value)\n",
        "    return gf_value\n",
        "\n",
        "# compute dg_x\n",
        "def backward(x, fx_value):\n",
        "    df_dx_value = df_dx(x)\n",
        "    dg_df_value = dg_df(df_dx_value)\n",
        "    dg_dx_value = df_dx_value*dg_df_value\n",
        "    return dg_dx_value"
      ],
      "metadata": {
        "id": "XqPN6l4VQKvB"
      },
      "execution_count": 1,
      "outputs": []
    },
    {
      "cell_type": "code",
      "source": [
        "# minimize the composite function g(f(x))\n",
        "\n",
        "import random\n",
        "\n",
        "num_steps = 20\n",
        "lr = 0.1\n",
        "\n",
        "# 1. set x randomly\n",
        "x = random.randint(-100, 100)\n",
        "print(x)\n",
        "\n",
        "for _ in range(num_steps):\n",
        "    # 1. compute derivative\n",
        "    fx_value = fx(x)\n",
        "    dg_dx_value = backward(x, fx_value)\n",
        "\n",
        "    # 2 update\n",
        "    x = x - lr*dg_dx_value\n",
        "    print(x, '   ', forward(x))"
      ],
      "metadata": {
        "colab": {
          "base_uri": "https://localhost:8080/"
        },
        "id": "FfDFwkmySaou",
        "outputId": "f70f7588-7a89-41f6-89e9-dbf26d8dc833"
      },
      "execution_count": 2,
      "outputs": [
        {
          "output_type": "stream",
          "name": "stdout",
          "text": [
            "47\n",
            "47.4     8244.64\n",
            "47.8     8390.56\n",
            "48.199999999999996     8537.759999999998\n",
            "48.599999999999994     8686.239999999998\n",
            "48.99999999999999     8835.999999999998\n",
            "49.39999999999999     8987.039999999997\n",
            "49.79999999999999     9139.359999999997\n",
            "50.19999999999999     9292.959999999995\n",
            "50.59999999999999     9447.839999999995\n",
            "50.999999999999986     9603.999999999995\n",
            "51.399999999999984     9761.439999999993\n",
            "51.79999999999998     9920.159999999993\n",
            "52.19999999999998     10080.159999999993\n",
            "52.59999999999998     10241.439999999991\n",
            "52.99999999999998     10403.99999999999\n",
            "53.39999999999998     10567.839999999991\n",
            "53.799999999999976     10732.95999999999\n",
            "54.199999999999974     10899.35999999999\n",
            "54.59999999999997     11067.039999999988\n",
            "54.99999999999997     11235.999999999987\n"
          ]
        }
      ]
    }
  ]
}