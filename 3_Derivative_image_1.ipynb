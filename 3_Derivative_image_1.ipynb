{
  "cells": [
    {
      "cell_type": "markdown",
      "metadata": {
        "id": "view-in-github",
        "colab_type": "text"
      },
      "source": [
        "<a href=\"https://colab.research.google.com/github/minhbao1705/AIO-2023/blob/main/3_Derivative_image_1.ipynb\" target=\"_parent\"><img src=\"https://colab.research.google.com/assets/colab-badge.svg\" alt=\"Open In Colab\"/></a>"
      ]
    },
    {
      "cell_type": "markdown",
      "metadata": {
        "id": "oz6keTFWU0nT"
      },
      "source": [
        "### OpenCV"
      ]
    },
    {
      "cell_type": "code",
      "execution_count": null,
      "metadata": {
        "id": "_rEb9JxnU0nW",
        "outputId": "cceab401-37ed-4dd3-ce44-a3690cb8dd57"
      },
      "outputs": [
        {
          "name": "stdout",
          "output_type": "stream",
          "text": [
            "<class 'numpy.ndarray'>\n"
          ]
        },
        {
          "data": {
            "text/plain": [
              "True"
            ]
          },
          "execution_count": 1,
          "metadata": {},
          "output_type": "execute_result"
        }
      ],
      "source": [
        "import numpy as np\n",
        "import cv2\n",
        "\n",
        "# read image and convert to grayscale\n",
        "img = cv2.imread('nature.png', 0)\n",
        "\n",
        "# compute sobel-x\n",
        "sobelx = cv2.Sobel(img, cv2.CV_64F,1,0)\n",
        "print(type(sobelx))\n",
        "\n",
        "# compute sobel-y\n",
        "sobely = cv2.Sobel(img, cv2.CV_64F,0,1)\n",
        "\n",
        "# save results\n",
        "cv2.imwrite('nature_edge_x.jpg', sobelx)\n",
        "cv2.imwrite('nature_edge_y.jpg', sobely)"
      ]
    },
    {
      "cell_type": "code",
      "execution_count": null,
      "metadata": {
        "id": "yBI2IS86U0nY"
      },
      "outputs": [],
      "source": []
    },
    {
      "cell_type": "markdown",
      "metadata": {
        "id": "c-luifezU0nY"
      },
      "source": [
        "### Implementation - Using abs"
      ]
    },
    {
      "cell_type": "code",
      "execution_count": null,
      "metadata": {
        "id": "vzVFNWXMU0nY",
        "outputId": "fcf107b4-78a2-4fd6-d547-de42e1250ec1"
      },
      "outputs": [
        {
          "name": "stdout",
          "output_type": "stream",
          "text": [
            "height: 500\n",
            "width: 1200\n"
          ]
        }
      ],
      "source": [
        "# load an image\n",
        "import cv2\n",
        "import math\n",
        "import numpy as np\n",
        "\n",
        "image = cv2.imread('nature.jpg', 0).tolist()\n",
        "\n",
        "height = len(image)\n",
        "width = len(image[0])\n",
        "\n",
        "print(f'height: {height}')\n",
        "print(f'width: {width}')"
      ]
    },
    {
      "cell_type": "code",
      "execution_count": null,
      "metadata": {
        "id": "GkOOV3pzU0nZ"
      },
      "outputs": [],
      "source": []
    },
    {
      "cell_type": "code",
      "execution_count": null,
      "metadata": {
        "id": "iS36p8BhU0nZ"
      },
      "outputs": [],
      "source": [
        "def derivative_x(data, height, width):\n",
        "    result = [[0]*width for _ in range(height)]\n",
        "\n",
        "    # get rows and compute derivative\n",
        "    for i in range(height):\n",
        "\n",
        "        # for each row\n",
        "        for j in range(width-1):\n",
        "            d_value = data[i][j+1] - data[i][j]\n",
        "            result[i][j] = d_value\n",
        "\n",
        "    return result"
      ]
    },
    {
      "cell_type": "code",
      "execution_count": null,
      "metadata": {
        "id": "T7JuK0kUU0na"
      },
      "outputs": [],
      "source": []
    },
    {
      "cell_type": "code",
      "execution_count": null,
      "metadata": {
        "id": "GIZM8fkbU0na"
      },
      "outputs": [],
      "source": [
        "def derivative_x(data, height, width):\n",
        "    result = [[0]*width for _ in range(height)]\n",
        "\n",
        "    # get rows and compute derivative\n",
        "    for i in range(height):\n",
        "\n",
        "        # for each row\n",
        "        for j in range(width-1):\n",
        "            d_value = data[i][j+1] - data[i][j]\n",
        "\n",
        "            # d_value can be positive or negative\n",
        "            # process d_value to adapt to an image\n",
        "            result[i][j] = abs(d_value)\n",
        "\n",
        "    return result"
      ]
    },
    {
      "cell_type": "code",
      "execution_count": null,
      "metadata": {
        "id": "dBe2BeoKU0na",
        "outputId": "20cb553c-e04e-42db-c050-cb38042ace23"
      },
      "outputs": [
        {
          "name": "stdout",
          "output_type": "stream",
          "text": [
            "83\n",
            "0\n"
          ]
        },
        {
          "data": {
            "text/plain": [
              "True"
            ]
          },
          "execution_count": 3,
          "metadata": {},
          "output_type": "execute_result"
        }
      ],
      "source": [
        "image_dx = derivative_x(image, height, width)\n",
        "print(np.max(image_dx))\n",
        "print(np.min(image_dx))\n",
        "cv2.imwrite('1.image_dx.jpg', np.array(image_dx))"
      ]
    },
    {
      "cell_type": "code",
      "execution_count": null,
      "metadata": {
        "id": "lGyaObSlU0nb"
      },
      "outputs": [],
      "source": []
    },
    {
      "cell_type": "code",
      "execution_count": null,
      "metadata": {
        "id": "FXCqiCLeU0nb"
      },
      "outputs": [],
      "source": [
        "def derivative_y(data, height, width):\n",
        "    result = [[0]*width for _ in range(height)]\n",
        "\n",
        "    # get columns and compute derivative\n",
        "    for j in range(width):\n",
        "\n",
        "        # for each column\n",
        "        for i in range(height-1):\n",
        "            d_value = data[i+1][j] - data[i][j]\n",
        "\n",
        "            # d_value can be positive or negative\n",
        "            # process d_value to adapt to an image\n",
        "            result[i][j] = abs(d_value)*3\n",
        "\n",
        "    return result"
      ]
    },
    {
      "cell_type": "code",
      "execution_count": null,
      "metadata": {
        "id": "bb75djZBU0nb",
        "outputId": "51525776-47b7-467c-98f1-0d1ac7576011"
      },
      "outputs": [
        {
          "name": "stdout",
          "output_type": "stream",
          "text": [
            "252\n",
            "0\n"
          ]
        },
        {
          "data": {
            "text/plain": [
              "True"
            ]
          },
          "execution_count": 23,
          "metadata": {},
          "output_type": "execute_result"
        }
      ],
      "source": [
        "image_dy = derivative_y(image, height, width)\n",
        "print(np.max(image_dy))\n",
        "print(np.min(image_dy))\n",
        "cv2.imwrite('image_dy.jpg', np.array(image_dy))"
      ]
    },
    {
      "cell_type": "code",
      "execution_count": null,
      "metadata": {
        "id": "thep4Bw7U0nc"
      },
      "outputs": [],
      "source": []
    }
  ],
  "metadata": {
    "kernelspec": {
      "display_name": "Python 3 (ipykernel)",
      "language": "python",
      "name": "python3"
    },
    "language_info": {
      "codemirror_mode": {
        "name": "ipython",
        "version": 3
      },
      "file_extension": ".py",
      "mimetype": "text/x-python",
      "name": "python",
      "nbconvert_exporter": "python",
      "pygments_lexer": "ipython3",
      "version": "3.9.13"
    },
    "colab": {
      "provenance": [],
      "include_colab_link": true
    }
  },
  "nbformat": 4,
  "nbformat_minor": 0
}